{
 "cells": [
  {
   "cell_type": "code",
   "execution_count": null,
   "metadata": {},
   "outputs": [],
   "source": [
    "import cv2\n",
    "def func(a):\n",
    "    cap=cv2.VideoCapture(a)\n",
    "    while True:\n",
    "        check,output=cap.read()\n",
    "        faceCascade = cv2.CascadeClassifier('haarcascade_frontalface_default.xml')\n",
    "        faces=faceCascade.detectMultiScale(output,1.3,5)\n",
    "        for (x,y,w,h) in faces:\n",
    "            output = cv2.rectangle(output,(x,y),(x+w,y+h),(255,0,0),2)\n",
    "            output = cv2.resize(output, (700,500))\n",
    "            cv2.imshow('face recogonition',output)\n",
    "        k=cv2.waitKey(1)\n",
    "        if k==ord('q'):\n",
    "            break\n",
    "    cap.release()\n",
    "    cv2.destroyAllWindows()\n",
    "func('input.mp4')"
   ]
  },
  {
   "cell_type": "code",
   "execution_count": null,
   "metadata": {},
   "outputs": [],
   "source": []
  }
 ],
 "metadata": {
  "kernelspec": {
   "display_name": "Python 3",
   "language": "python",
   "name": "python3"
  },
  "language_info": {
   "codemirror_mode": {
    "name": "ipython",
    "version": 3
   },
   "file_extension": ".py",
   "mimetype": "text/x-python",
   "name": "python",
   "nbconvert_exporter": "python",
   "pygments_lexer": "ipython3",
   "version": "3.7.9"
  }
 },
 "nbformat": 4,
 "nbformat_minor": 4
}
